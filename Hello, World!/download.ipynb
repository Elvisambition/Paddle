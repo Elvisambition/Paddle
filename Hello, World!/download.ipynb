{
 "cells": [
  {
   "cell_type": "code",
   "execution_count": 1,
   "id": "303aec50-9187-47ac-8c21-35a89d3ee6d8",
   "metadata": {
    "execution": {
     "iopub.execute_input": "2021-11-09T04:30:57.831622Z",
     "iopub.status.busy": "2021-11-09T04:30:57.830690Z",
     "iopub.status.idle": "2021-11-09T04:30:59.426956Z",
     "shell.execute_reply": "2021-11-09T04:30:59.425838Z",
     "shell.execute_reply.started": "2021-11-09T04:30:57.831578Z"
    }
   },
   "outputs": [
    {
     "name": "stdout",
     "output_type": "stream",
     "text": [
      "2.1.2\n"
     ]
    }
   ],
   "source": [
    "import paddle\r\n",
    "print(paddle.__version__)\r\n"
   ]
  },
  {
   "cell_type": "code",
   "execution_count": 2,
   "id": "833d2226-9a05-4e45-9765-bcf46094c657",
   "metadata": {
    "execution": {
     "iopub.execute_input": "2021-11-09T04:36:52.503378Z",
     "iopub.status.busy": "2021-11-09T04:36:52.502618Z",
     "iopub.status.idle": "2021-11-09T04:36:57.638808Z",
     "shell.execute_reply": "2021-11-09T04:36:57.637880Z",
     "shell.execute_reply.started": "2021-11-09T04:36:52.503335Z"
    }
   },
   "outputs": [
    {
     "name": "stdout",
     "output_type": "stream",
     "text": [
      "----Downloading----\n"
     ]
    },
    {
     "name": "stderr",
     "output_type": "stream",
     "text": [
      "Cache file /home/aistudio/.cache/paddle/dataset/mnist/train-images-idx3-ubyte.gz not found, downloading https://dataset.bj.bcebos.com/mnist/train-images-idx3-ubyte.gz \n",
      "Begin to download\n",
      "\n",
      "Download finished\n",
      "Cache file /home/aistudio/.cache/paddle/dataset/mnist/train-labels-idx1-ubyte.gz not found, downloading https://dataset.bj.bcebos.com/mnist/train-labels-idx1-ubyte.gz \n",
      "Begin to download\n",
      "........\n",
      "Download finished\n",
      "Cache file /home/aistudio/.cache/paddle/dataset/mnist/t10k-images-idx3-ubyte.gz not found, downloading https://dataset.bj.bcebos.com/mnist/t10k-images-idx3-ubyte.gz \n",
      "Begin to download\n",
      "\n",
      "Download finished\n",
      "Cache file /home/aistudio/.cache/paddle/dataset/mnist/t10k-labels-idx1-ubyte.gz not found, downloading https://dataset.bj.bcebos.com/mnist/t10k-labels-idx1-ubyte.gz \n",
      "Begin to download\n",
      "..\n",
      "Download finished\n"
     ]
    },
    {
     "name": "stdout",
     "output_type": "stream",
     "text": [
      "Load finished\n"
     ]
    }
   ],
   "source": [
    "from paddle.vision.transforms import Compose, Normalize\r\n",
    "\r\n",
    "transform = Compose([Normalize(mean = [127.5],std=[127.5],data_format='CHW')])\r\n",
    "\r\n",
    "print(\"----Downloading----\")\r\n",
    "train_dataset = paddle.vision.datasets.MNIST(mode = 'train',transform = transform)\r\n",
    "test_dataset = paddle.vision.datasets.MNIST(mode = 'test',transform = transform)\r\n",
    "print(\"Load finished\")\r\n"
   ]
  }
 ],
 "metadata": {
  "kernelspec": {
   "display_name": "Python 3",
   "language": "python",
   "name": "py35-paddle1.2.0"
  },
  "language_info": {
   "codemirror_mode": {
    "name": "ipython",
    "version": 3
   },
   "file_extension": ".py",
   "mimetype": "text/x-python",
   "name": "python",
   "nbconvert_exporter": "python",
   "pygments_lexer": "ipython3",
   "version": "3.7.4"
  }
 },
 "nbformat": 4,
 "nbformat_minor": 5
}
