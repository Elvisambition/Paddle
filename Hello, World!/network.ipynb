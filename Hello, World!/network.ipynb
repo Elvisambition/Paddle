{
 "cells": [
  {
   "cell_type": "code",
   "execution_count": 10,
   "id": "31f0a6a0-f086-47ab-92a3-939b6059a3fb",
   "metadata": {
    "execution": {
     "iopub.execute_input": "2021-11-09T04:55:25.869008Z",
     "iopub.status.busy": "2021-11-09T04:55:25.868575Z",
     "iopub.status.idle": "2021-11-09T04:55:25.876178Z",
     "shell.execute_reply": "2021-11-09T04:55:25.875701Z",
     "shell.execute_reply.started": "2021-11-09T04:55:25.868985Z"
    }
   },
   "outputs": [],
   "source": [
    "import paddle\r\n",
    "import paddle.nn.functional as F\r\n",
    "\r\n",
    "class LeNet(paddle.nn.Layer):\r\n",
    "    def __init__(self):\r\n",
    "\r\n",
    "        super(LeNet,self).__init__()\r\n",
    "        self.conv1 = paddle.nn.Conv2D(in_channels=1,out_channels=6,kernel_size=5,stride=1,padding=2)\r\n",
    "        self.max_pool1 = paddle.nn.MaxPool2D(kernel_size=2,stride=2)\r\n",
    "        self.conv2 = paddle.nn.Conv2D(in_channels=6,out_channels=16,kernel_size=5,stride=1)\r\n",
    "        self.max_pool2 = paddle.nn.MaxPool2D(kernel_size=2,stride=2)\r\n",
    "        self.linear1 = paddle.nn.Linear(in_features=16*5*5,out_features=120)\r\n",
    "        self.linear2 = paddle.nn.Linear(in_features=120,out_features=84)\r\n",
    "        self.linear3 = paddle.nn.Linear(in_features=84,out_features=10)\r\n",
    "\r\n",
    "\r\n",
    "    def forward(self,x):\r\n",
    "        x = self.conv1(x)\r\n",
    "        x = F.relu(x)\r\n",
    "        x = self.max_pool1(x)\r\n",
    "        x = F.relu(x)\r\n",
    "        x = self.conv2(x)\r\n",
    "        x = F.relu(x)\r\n",
    "        x = self.max_pool2(x)\r\n",
    "        x = paddle.flatten(x,start_axis=1,stop_axis=-1)\r\n",
    "        x = self.linear1(x)\r\n",
    "        x = F.relu(x)\r\n",
    "        x = self.linear2(x)\r\n",
    "        x = F.relu(x)\r\n",
    "        x = self.linear3(x)\r\n",
    "\r\n",
    "        return x\r\n",
    "\r\n",
    "        "
   ]
  },
  {
   "cell_type": "code",
   "execution_count": 11,
   "id": "0f2c4da2-75dc-42a0-bf19-afcf6a740ac0",
   "metadata": {
    "execution": {
     "iopub.execute_input": "2021-11-09T04:55:38.787586Z",
     "iopub.status.busy": "2021-11-09T04:55:38.786888Z",
     "iopub.status.idle": "2021-11-09T04:55:38.796333Z",
     "shell.execute_reply": "2021-11-09T04:55:38.795804Z",
     "shell.execute_reply.started": "2021-11-09T04:55:38.787544Z"
    }
   },
   "outputs": [],
   "source": [
    "from paddle.metric import Accuracy\r\n",
    "\r\n",
    "model = paddle.Model(LeNet())\r\n",
    "\r\n",
    "optim = paddle.optimizer.Adam(learning_rate=0.002,parameters=model.parameters())\r\n",
    "\r\n",
    "model.prepare(optim,paddle.nn.CrossEntropyLoss(),Accuracy())\r\n"
   ]
  },
  {
   "cell_type": "code",
   "execution_count": 9,
   "id": "a304f391-f981-47e8-865b-35a246a7ca76",
   "metadata": {
    "execution": {
     "iopub.execute_input": "2021-11-09T04:55:22.107084Z",
     "iopub.status.busy": "2021-11-09T04:55:22.106549Z",
     "iopub.status.idle": "2021-11-09T04:55:25.848991Z",
     "shell.execute_reply": "2021-11-09T04:55:25.848339Z",
     "shell.execute_reply.started": "2021-11-09T04:55:22.107024Z"
    }
   },
   "outputs": [
    {
     "name": "stdout",
     "output_type": "stream",
     "text": [
      "----Downloading----\n",
      "Load finished\n"
     ]
    }
   ],
   "source": [
    "from paddle.vision.transforms import Compose, Normalize\r\n",
    "\r\n",
    "transform = Compose([Normalize(mean = [127.5],std=[127.5],data_format='CHW')])\r\n",
    "\r\n",
    "print(\"----Downloading----\")\r\n",
    "train_dataset = paddle.vision.datasets.MNIST(mode = 'train',transform = transform)\r\n",
    "test_dataset = paddle.vision.datasets.MNIST(mode = 'test',transform = transform)\r\n",
    "print(\"Load finished\")\r\n"
   ]
  },
  {
   "cell_type": "code",
   "execution_count": 12,
   "id": "234db58f-02ec-41b6-a311-868f04644b8a",
   "metadata": {
    "execution": {
     "iopub.execute_input": "2021-11-09T04:55:44.149486Z",
     "iopub.status.busy": "2021-11-09T04:55:44.148573Z",
     "iopub.status.idle": "2021-11-09T04:56:29.531342Z",
     "shell.execute_reply": "2021-11-09T04:56:29.530734Z",
     "shell.execute_reply.started": "2021-11-09T04:55:44.149440Z"
    }
   },
   "outputs": [
    {
     "name": "stdout",
     "output_type": "stream",
     "text": [
      "The loss value printed in the log is the current step, and the metric is the average value of previous steps.\n",
      "Epoch 1/5\n",
      "step 938/938 [==============================] - loss: 0.0704 - acc: 0.9473 - 10ms/step          \n",
      "Epoch 2/5\n",
      "step 938/938 [==============================] - loss: 0.0159 - acc: 0.9810 - 10ms/step          \n",
      "Epoch 3/5\n",
      "step 938/938 [==============================] - loss: 0.0017 - acc: 0.9861 - 10ms/step          \n",
      "Epoch 4/5\n",
      "step 938/938 [==============================] - loss: 0.0019 - acc: 0.9880 - 10ms/step          \n",
      "Epoch 5/5\n",
      "step 938/938 [==============================] - loss: 0.0061 - acc: 0.9900 - 10ms/step          \n"
     ]
    }
   ],
   "source": [
    "model.fit(train_dataset,epochs = 5,batch_size = 64,verbose = 1)\r\n"
   ]
  },
  {
   "cell_type": "code",
   "execution_count": 13,
   "id": "a188f1fe-6282-4df2-8e32-86f59c08c34d",
   "metadata": {
    "execution": {
     "iopub.execute_input": "2021-11-09T04:57:31.522232Z",
     "iopub.status.busy": "2021-11-09T04:57:31.521492Z",
     "iopub.status.idle": "2021-11-09T04:57:32.693856Z",
     "shell.execute_reply": "2021-11-09T04:57:32.693197Z",
     "shell.execute_reply.started": "2021-11-09T04:57:31.522184Z"
    }
   },
   "outputs": [
    {
     "name": "stdout",
     "output_type": "stream",
     "text": [
      "Eval begin...\n",
      "step 157/157 [==============================] - loss: 3.0054e-05 - acc: 0.9873 - 7ms/step         \n",
      "Eval samples: 10000\n"
     ]
    },
    {
     "data": {
      "text/plain": [
       "{'loss': [3.005351e-05], 'acc': 0.9873}"
      ]
     },
     "execution_count": 13,
     "metadata": {},
     "output_type": "execute_result"
    }
   ],
   "source": [
    "model.evaluate(test_dataset,batch_size=64,verbose=1)\r\n"
   ]
  }
 ],
 "metadata": {
  "kernelspec": {
   "display_name": "Python 3",
   "language": "python",
   "name": "py35-paddle1.2.0"
  },
  "language_info": {
   "codemirror_mode": {
    "name": "ipython",
    "version": 3
   },
   "file_extension": ".py",
   "mimetype": "text/x-python",
   "name": "python",
   "nbconvert_exporter": "python",
   "pygments_lexer": "ipython3",
   "version": "3.7.4"
  }
 },
 "nbformat": 4,
 "nbformat_minor": 5
}
